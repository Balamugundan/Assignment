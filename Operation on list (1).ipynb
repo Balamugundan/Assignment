{
 "cells": [
  {
   "cell_type": "markdown",
   "id": "e6e8a7eb-0e1c-4aba-b729-f952e9922bed",
   "metadata": {},
   "source": [
    "# Operation on list"
   ]
  },
  {
   "cell_type": "markdown",
   "id": "68f3f89a-2433-4a91-89ad-25a8804d6bfd",
   "metadata": {},
   "source": [
    "#### Create a list"
   ]
  },
  {
   "cell_type": "code",
   "execution_count": 6,
   "id": "8b2256f6-cefb-43b7-842b-11339e929d6d",
   "metadata": {},
   "outputs": [
    {
     "name": "stdout",
     "output_type": "stream",
     "text": [
      "The list element is: [10, 20, 30, 40]\n",
      "The list element of different values: ['Bala', 18, 'Logesh', 20]\n"
     ]
    }
   ],
   "source": [
    "list1=[10,20,30,40]\n",
    "list2=[\"Bala\",18,\"Logesh\",20]\n",
    "print(\"The list element is:\",list)\n",
    "print(\"The list element of different values:\",list2)"
   ]
  },
  {
   "cell_type": "markdown",
   "id": "4ecb0815-01a5-4896-9364-64a39ea49abf",
   "metadata": {},
   "source": [
    "#### Insert element"
   ]
  },
  {
   "cell_type": "code",
   "execution_count": 8,
   "id": "b09fc407-4a98-4421-afef-1de3dda65378",
   "metadata": {},
   "outputs": [
    {
     "name": "stdout",
     "output_type": "stream",
     "text": [
      "After Insert of the element: [10, 20, 60, 30, 40]\n",
      "After Insert of the element: ['Bala', 18, 'Jeyasheelan', 'Logesh', 20]\n"
     ]
    }
   ],
   "source": [
    "list1=[10,20,30,40]\n",
    "list2=[\"Bala\",18,\"Logesh\",20]\n",
    "list1.insert(2,60)\n",
    "list2.insert(2,\"Jeyasheelan\")\n",
    "print(\"After Insert of the element:\",list1)\n",
    "print(\"After Insert of the element:\",list2)"
   ]
  },
  {
   "cell_type": "markdown",
   "id": "d1e8d49e-4030-43a1-b322-6807da9508f1",
   "metadata": {},
   "source": [
    "#### Append element"
   ]
  },
  {
   "cell_type": "code",
   "execution_count": 9,
   "id": "4cf63813-b4cc-4278-a7f1-8b80e9f1373e",
   "metadata": {},
   "outputs": [
    {
     "name": "stdout",
     "output_type": "stream",
     "text": [
      "After Append: [10, 20, 30, 40, 40]\n",
      "After Append: ['Bala', 18, 'Logesh', 20, 'Jeyasheelan']\n"
     ]
    }
   ],
   "source": [
    "list1=[10,20,30,40]\n",
    "list2=[\"Bala\",18,\"Logesh\",20]\n",
    "list1.append(40)\n",
    "list2.append(\"Jeyasheelan\")\n",
    "print(\"After Append:\",list1)\n",
    "print(\"After Append:\",list2)"
   ]
  },
  {
   "cell_type": "markdown",
   "id": "03fd9637-8665-4ac9-9b84-ab448b90fb78",
   "metadata": {},
   "source": [
    "#### Update element"
   ]
  },
  {
   "cell_type": "code",
   "execution_count": 10,
   "id": "5eb261dc-27bb-4aac-ad43-d31c18cf5e47",
   "metadata": {},
   "outputs": [
    {
     "name": "stdout",
     "output_type": "stream",
     "text": [
      "After Update: [10, 99, 30, 40]\n",
      "After Update: ['Bala', 18, 'Jeyasheelan', 20]\n"
     ]
    }
   ],
   "source": [
    "list1=[10,20,30,40]\n",
    "list2=[\"Bala\",18,\"Logesh\",20]\n",
    "list1[1]=99\n",
    "list2[2]=\"Jeyasheelan\"\n",
    "print(\"After Update:\",list1)\n",
    "print(\"After Update:\",list2)"
   ]
  },
  {
   "cell_type": "markdown",
   "id": "2580b76f-0e9d-433c-bafe-056c48bfb968",
   "metadata": {},
   "source": [
    "#### Delete element by index & value"
   ]
  },
  {
   "cell_type": "code",
   "execution_count": 12,
   "id": "2e2ed7f0-87a6-42ec-9574-805d88df4593",
   "metadata": {},
   "outputs": [
    {
     "name": "stdout",
     "output_type": "stream",
     "text": [
      "After deletion (By index): [20, 30, 40]\n",
      "After deletion (By value): [10, 20, 30]\n"
     ]
    }
   ],
   "source": [
    "list1=[10,20,30,40]\n",
    "del list1[0]\n",
    "print(\"After deletion (By index):\",list1)\n",
    "list2=[10,20,30,40]\n",
    "list2.remove(40)\n",
    "print(\"After deletion (By value):\",list2)\n"
   ]
  },
  {
   "cell_type": "markdown",
   "id": "24974f6a-b065-490b-9073-139fc0fa6c85",
   "metadata": {},
   "source": [
    "#### Concatenate with another list"
   ]
  },
  {
   "cell_type": "code",
   "execution_count": 14,
   "id": "7c852c9b-ff61-4e22-a437-7b449ff2d45d",
   "metadata": {},
   "outputs": [
    {
     "name": "stdout",
     "output_type": "stream",
     "text": [
      "Concatenated list: [10, 20, 30, 40, 'Bala', 18, 'Logesh', 20]\n"
     ]
    }
   ],
   "source": [
    "list1=[10,20,30,40]\n",
    "list2=[\"Bala\",18,\"Logesh\",20]\n",
    "concatenate=list1+list2\n",
    "print(\"Concatenated list:\",concatenate)"
   ]
  },
  {
   "cell_type": "markdown",
   "id": "04cb6978-806a-4f6c-93cf-73b920769860",
   "metadata": {},
   "source": [
    "#### Length of the list"
   ]
  },
  {
   "cell_type": "code",
   "execution_count": 16,
   "id": "42344ed6-37fb-451a-a1e9-869c9af54e2c",
   "metadata": {},
   "outputs": [
    {
     "name": "stdout",
     "output_type": "stream",
     "text": [
      "The lengthh of the list is: 4\n"
     ]
    }
   ],
   "source": [
    "list1=[10,20,30,40]\n",
    "print(\"The lengthh of the list is:\",len(list1))"
   ]
  },
  {
   "cell_type": "markdown",
   "id": "72ac217c-ff23-4449-92f6-27b22b617bd9",
   "metadata": {},
   "source": [
    "#### Copy the list"
   ]
  },
  {
   "cell_type": "code",
   "execution_count": 18,
   "id": "894f9b6f-eb25-413d-a7fc-7664da66df23",
   "metadata": {},
   "outputs": [
    {
     "name": "stdout",
     "output_type": "stream",
     "text": [
      "Copied list: [10, 20, 30, 40]\n"
     ]
    }
   ],
   "source": [
    "list1=[10,20,30,40]\n",
    "copy_list=list1.copy()\n",
    "print(\"Copied list:\",copy_list)"
   ]
  }
 ],
 "metadata": {
  "kernelspec": {
   "display_name": "Python 3 (ipykernel)",
   "language": "python",
   "name": "python3"
  },
  "language_info": {
   "codemirror_mode": {
    "name": "ipython",
    "version": 3
   },
   "file_extension": ".py",
   "mimetype": "text/x-python",
   "name": "python",
   "nbconvert_exporter": "python",
   "pygments_lexer": "ipython3",
   "version": "3.13.5"
  }
 },
 "nbformat": 4,
 "nbformat_minor": 5
}
