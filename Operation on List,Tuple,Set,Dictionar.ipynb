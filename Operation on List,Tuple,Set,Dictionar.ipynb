{
 "cells": [
  {
   "cell_type": "markdown",
   "id": "e6e8a7eb-0e1c-4aba-b729-f952e9922bed",
   "metadata": {},
   "source": [
    "# Operation on list"
   ]
  },
  {
   "cell_type": "markdown",
   "id": "68f3f89a-2433-4a91-89ad-25a8804d6bfd",
   "metadata": {},
   "source": [
    "#### *Create a list*"
   ]
  },
  {
   "cell_type": "code",
   "execution_count": 6,
   "id": "8b2256f6-cefb-43b7-842b-11339e929d6d",
   "metadata": {},
   "outputs": [
    {
     "name": "stdout",
     "output_type": "stream",
     "text": [
      "The list element is: [10, 20, 30, 40]\n",
      "The list element of different values: ['Bala', 18, 'Logesh', 20]\n"
     ]
    }
   ],
   "source": [
    "list1=[10,20,30,40]\n",
    "list2=[\"Bala\",18,\"Logesh\",20]\n",
    "print(\"The list element is:\",list)\n",
    "print(\"The list element of different values:\",list2)"
   ]
  },
  {
   "cell_type": "markdown",
   "id": "4ecb0815-01a5-4896-9364-64a39ea49abf",
   "metadata": {},
   "source": [
    "#### *Insert element*"
   ]
  },
  {
   "cell_type": "code",
   "execution_count": 8,
   "id": "b09fc407-4a98-4421-afef-1de3dda65378",
   "metadata": {},
   "outputs": [
    {
     "name": "stdout",
     "output_type": "stream",
     "text": [
      "After Insert of the element: [10, 20, 60, 30, 40]\n",
      "After Insert of the element: ['Bala', 18, 'Jeyasheelan', 'Logesh', 20]\n"
     ]
    }
   ],
   "source": [
    "list1=[10,20,30,40]\n",
    "list2=[\"Bala\",18,\"Logesh\",20]\n",
    "list1.insert(2,60)\n",
    "list2.insert(2,\"Jeyasheelan\")\n",
    "print(\"After Insert of the element:\",list1)\n",
    "print(\"After Insert of the element:\",list2)"
   ]
  },
  {
   "cell_type": "markdown",
   "id": "d1e8d49e-4030-43a1-b322-6807da9508f1",
   "metadata": {},
   "source": [
    "#### *Append element*"
   ]
  },
  {
   "cell_type": "code",
   "execution_count": 9,
   "id": "4cf63813-b4cc-4278-a7f1-8b80e9f1373e",
   "metadata": {},
   "outputs": [
    {
     "name": "stdout",
     "output_type": "stream",
     "text": [
      "After Append: [10, 20, 30, 40, 40]\n",
      "After Append: ['Bala', 18, 'Logesh', 20, 'Jeyasheelan']\n"
     ]
    }
   ],
   "source": [
    "list1=[10,20,30,40]\n",
    "list2=[\"Bala\",18,\"Logesh\",20]\n",
    "list1.append(40)\n",
    "list2.append(\"Jeyasheelan\")\n",
    "print(\"After Append:\",list1)\n",
    "print(\"After Append:\",list2)"
   ]
  },
  {
   "cell_type": "markdown",
   "id": "03fd9637-8665-4ac9-9b84-ab448b90fb78",
   "metadata": {},
   "source": [
    "#### *Update element*"
   ]
  },
  {
   "cell_type": "code",
   "execution_count": 10,
   "id": "5eb261dc-27bb-4aac-ad43-d31c18cf5e47",
   "metadata": {},
   "outputs": [
    {
     "name": "stdout",
     "output_type": "stream",
     "text": [
      "After Update: [10, 99, 30, 40]\n",
      "After Update: ['Bala', 18, 'Jeyasheelan', 20]\n"
     ]
    }
   ],
   "source": [
    "list1=[10,20,30,40]\n",
    "list2=[\"Bala\",18,\"Logesh\",20]\n",
    "list1[1]=99\n",
    "list2[2]=\"Jeyasheelan\"\n",
    "print(\"After Update:\",list1)\n",
    "print(\"After Update:\",list2)"
   ]
  },
  {
   "cell_type": "markdown",
   "id": "2580b76f-0e9d-433c-bafe-056c48bfb968",
   "metadata": {},
   "source": [
    "#### *Delete element by index & value*"
   ]
  },
  {
   "cell_type": "code",
   "execution_count": 12,
   "id": "2e2ed7f0-87a6-42ec-9574-805d88df4593",
   "metadata": {},
   "outputs": [
    {
     "name": "stdout",
     "output_type": "stream",
     "text": [
      "After deletion (By index): [20, 30, 40]\n",
      "After deletion (By value): [10, 20, 30]\n"
     ]
    }
   ],
   "source": [
    "list1=[10,20,30,40]\n",
    "del list1[0]\n",
    "print(\"After deletion (By index):\",list1)\n",
    "list2=[10,20,30,40]\n",
    "list2.remove(40)\n",
    "print(\"After deletion (By value):\",list2)\n"
   ]
  },
  {
   "cell_type": "markdown",
   "id": "24974f6a-b065-490b-9073-139fc0fa6c85",
   "metadata": {},
   "source": [
    "#### *Concatenate with another list*"
   ]
  },
  {
   "cell_type": "code",
   "execution_count": 14,
   "id": "7c852c9b-ff61-4e22-a437-7b449ff2d45d",
   "metadata": {},
   "outputs": [
    {
     "name": "stdout",
     "output_type": "stream",
     "text": [
      "Concatenated list: [10, 20, 30, 40, 'Bala', 18, 'Logesh', 20]\n"
     ]
    }
   ],
   "source": [
    "list1=[10,20,30,40]\n",
    "list2=[\"Bala\",18,\"Logesh\",20]\n",
    "concatenate=list1+list2\n",
    "print(\"Concatenated list:\",concatenate)"
   ]
  },
  {
   "cell_type": "markdown",
   "id": "04cb6978-806a-4f6c-93cf-73b920769860",
   "metadata": {},
   "source": [
    "#### *Length of the list*"
   ]
  },
  {
   "cell_type": "code",
   "execution_count": 16,
   "id": "42344ed6-37fb-451a-a1e9-869c9af54e2c",
   "metadata": {},
   "outputs": [
    {
     "name": "stdout",
     "output_type": "stream",
     "text": [
      "The lengthh of the list is: 4\n"
     ]
    }
   ],
   "source": [
    "list1=[10,20,30,40]\n",
    "print(\"The lengthh of the list is:\",len(list1))"
   ]
  },
  {
   "cell_type": "markdown",
   "id": "72ac217c-ff23-4449-92f6-27b22b617bd9",
   "metadata": {},
   "source": [
    "#### *Copy the list*"
   ]
  },
  {
   "cell_type": "code",
   "execution_count": 18,
   "id": "894f9b6f-eb25-413d-a7fc-7664da66df23",
   "metadata": {},
   "outputs": [
    {
     "name": "stdout",
     "output_type": "stream",
     "text": [
      "Copied list: [10, 20, 30, 40]\n"
     ]
    }
   ],
   "source": [
    "list1=[10,20,30,40]\n",
    "copy_list=list1.copy()\n",
    "print(\"Copied list:\",copy_list)"
   ]
  },
  {
   "cell_type": "markdown",
   "id": "c2218952-d06c-4522-9b03-ce2b629b5ce6",
   "metadata": {},
   "source": [
    "# Operation on tuple"
   ]
  },
  {
   "cell_type": "markdown",
   "id": "9b911288-b10e-4271-8cf2-8b73d254cb7d",
   "metadata": {},
   "source": [
    "#### *Create a tuple*"
   ]
  },
  {
   "cell_type": "code",
   "execution_count": 1,
   "id": "3869af97-d1a5-48e8-b369-2a2118ef0f83",
   "metadata": {},
   "outputs": [
    {
     "name": "stdout",
     "output_type": "stream",
     "text": [
      "(10, 20, 30, 40, 50)\n"
     ]
    }
   ],
   "source": [
    "tuple=(10,20,30,40,50)\n",
    "print(tuple)"
   ]
  },
  {
   "cell_type": "markdown",
   "id": "62c85b10-c81e-4d2c-874c-537db62d66d2",
   "metadata": {},
   "source": [
    "#### *Print a element by indexing*"
   ]
  },
  {
   "cell_type": "code",
   "execution_count": 5,
   "id": "9ba22052-5f48-4194-b105-f6b025527eac",
   "metadata": {},
   "outputs": [
    {
     "name": "stdout",
     "output_type": "stream",
     "text": [
      "The element of the tuple is: (10, 20, 30, 40, 50)\n"
     ]
    }
   ],
   "source": [
    "tuple=(10,20,30,40,50)\n",
    "print(\"The element of the tuple is:\",tuple)"
   ]
  },
  {
   "cell_type": "markdown",
   "id": "d734d161-5fcd-4c0b-858e-06423c268b7e",
   "metadata": {},
   "source": [
    "#### *Slicing a element*"
   ]
  },
  {
   "cell_type": "code",
   "execution_count": 3,
   "id": "11fddeb8-3e09-4cae-adf2-3d0b257eca3e",
   "metadata": {},
   "outputs": [
    {
     "name": "stdout",
     "output_type": "stream",
     "text": [
      "After slicing a element: (20, 30, 40)\n"
     ]
    }
   ],
   "source": [
    "tuple=(10,20,30,40,50)\n",
    "print(\"After slicing a element:\",tuple[1:4])\n"
   ]
  },
  {
   "cell_type": "markdown",
   "id": "520106d2-bb8c-4372-ac86-a654e7c790e3",
   "metadata": {},
   "source": [
    "#### *Concatenate a tuple with another tuple*"
   ]
  },
  {
   "cell_type": "code",
   "execution_count": 7,
   "id": "7ca57e1c-6c9d-468d-a2c0-f2f159152a05",
   "metadata": {},
   "outputs": [
    {
     "name": "stdout",
     "output_type": "stream",
     "text": [
      "Concatenate of tuple: (1, 2, 3, 4, 5, 6)\n"
     ]
    }
   ],
   "source": [
    "tuple1=(1,2,3)\n",
    "tuple2=(4,5,6)\n",
    "con=tuple1+tuple2\n",
    "print(\"Concatenate of tuple:\",con)"
   ]
  },
  {
   "cell_type": "markdown",
   "id": "02dbd974-8ce1-4135-81c4-8e8806b6a8ea",
   "metadata": {},
   "source": [
    "#### *Repetation*"
   ]
  },
  {
   "cell_type": "code",
   "execution_count": 9,
   "id": "c0fb4694-ac96-49aa-877b-4d3debb56171",
   "metadata": {},
   "outputs": [
    {
     "name": "stdout",
     "output_type": "stream",
     "text": [
      "Repetation of the tuple: (10, 20, 10, 20, 10, 20)\n"
     ]
    }
   ],
   "source": [
    "t=(10,20)\n",
    "print(\"Repetation of the tuple:\",t*3)\n"
   ]
  },
  {
   "cell_type": "markdown",
   "id": "de0c16db-6792-4e75-981a-e3909015488d",
   "metadata": {},
   "source": [
    "#### *Membership*"
   ]
  },
  {
   "cell_type": "code",
   "execution_count": 11,
   "id": "a0f7e76c-4c59-45fe-8028-2a4648cfaa06",
   "metadata": {},
   "outputs": [
    {
     "name": "stdout",
     "output_type": "stream",
     "text": [
      "True\n"
     ]
    }
   ],
   "source": [
    "t=(10,20,30)\n",
    "print(20 in t)"
   ]
  },
  {
   "cell_type": "markdown",
   "id": "279f101f-4684-4714-9955-dcd8bb37984d",
   "metadata": {},
   "source": [
    "#### *Length*"
   ]
  },
  {
   "cell_type": "code",
   "execution_count": 12,
   "id": "7f185026-fdd6-4438-9ea8-3ca609df5fa4",
   "metadata": {},
   "outputs": [
    {
     "name": "stdout",
     "output_type": "stream",
     "text": [
      "The length of the tuple is: 4\n"
     ]
    }
   ],
   "source": [
    "t=(10,20,30,40)\n",
    "print(\"The length of the tuple is:\",len(t))"
   ]
  },
  {
   "cell_type": "markdown",
   "id": "585baec7-e4b1-4be4-bf3e-de88bd531f90",
   "metadata": {},
   "source": [
    "#### *Min & Max*"
   ]
  },
  {
   "cell_type": "code",
   "execution_count": 13,
   "id": "18254d12-4f13-446d-8b8d-fb94811fe171",
   "metadata": {},
   "outputs": [
    {
     "name": "stdout",
     "output_type": "stream",
     "text": [
      "The maximum number of the tuple is: 9\n",
      "The lowest number of the tuple is: 1\n"
     ]
    }
   ],
   "source": [
    "tuple=(1,5,7,3,9)\n",
    "print(\"The maximum number of the tuple is:\",max(tuple))\n",
    "print(\"The lowest number of the tuple is:\",min(tuple))"
   ]
  },
  {
   "cell_type": "markdown",
   "id": "0f879f79-6d17-44ce-a346-0752cd227cae",
   "metadata": {},
   "source": [
    "#### *Count*"
   ]
  },
  {
   "cell_type": "code",
   "execution_count": 15,
   "id": "d647acb9-363d-4b54-8369-ce8be272183f",
   "metadata": {},
   "outputs": [
    {
     "name": "stdout",
     "output_type": "stream",
     "text": [
      "The number of element present in tuple is: 3\n"
     ]
    }
   ],
   "source": [
    "t=(1,2,4,6,2,7,8,2,1,7)\n",
    "num=t.count(2)\n",
    "print(\"The number of element present in tuple is:\",num)"
   ]
  },
  {
   "cell_type": "markdown",
   "id": "2ec9d076-5654-4e73-a3ee-3631bad744e1",
   "metadata": {},
   "source": [
    "# Operation on Set"
   ]
  },
  {
   "cell_type": "markdown",
   "id": "f071ef27-4fdb-42b4-9cd6-b82765eaa033",
   "metadata": {},
   "source": [
    "#### *Create a set*"
   ]
  },
  {
   "cell_type": "code",
   "execution_count": 2,
   "id": "be8ca131-a2c4-42a8-8068-edbd81358d20",
   "metadata": {},
   "outputs": [
    {
     "name": "stdout",
     "output_type": "stream",
     "text": [
      "set element: {1, 2, 3, 4, 5}\n"
     ]
    }
   ],
   "source": [
    "set={1,2,3,4,5}\n",
    "print(\"set element:\",set)"
   ]
  },
  {
   "cell_type": "markdown",
   "id": "1bc12d07-2bae-412d-aebb-d7f4ab3f669a",
   "metadata": {},
   "source": [
    "#### *Adding An Element*\n"
   ]
  },
  {
   "cell_type": "code",
   "execution_count": 3,
   "id": "7613747a-b22b-40f4-b940-f2d96f6df8e6",
   "metadata": {},
   "outputs": [
    {
     "name": "stdout",
     "output_type": "stream",
     "text": [
      "After adding an element: {1, 2, 3, 4, 5, 6}\n"
     ]
    }
   ],
   "source": [
    "set={1,2,3,4,5}\n",
    "set.add(6)\n",
    "print(\"After adding an element:\",set)"
   ]
  },
  {
   "cell_type": "markdown",
   "id": "c1c09dad-e6ee-4aab-9e47-1fefedb29f9d",
   "metadata": {},
   "source": [
    "#### *Removing An Element*"
   ]
  },
  {
   "cell_type": "code",
   "execution_count": 4,
   "id": "1884adf1-a416-469c-9042-a081e58f3a3c",
   "metadata": {},
   "outputs": [
    {
     "name": "stdout",
     "output_type": "stream",
     "text": [
      "After Remove: {1, 3, 4, 5}\n"
     ]
    }
   ],
   "source": [
    "set={1,2,3,4,5}\n",
    "set.remove(2)\n",
    "print(\"After Remove:\",set)"
   ]
  },
  {
   "cell_type": "markdown",
   "id": "7c479b32-80e9-46d7-a9a2-13dc6fdf404b",
   "metadata": {},
   "source": [
    "#### *Union (A∪B)*"
   ]
  },
  {
   "cell_type": "code",
   "execution_count": 5,
   "id": "2105a80c-f97f-4a2f-8694-13c70522a736",
   "metadata": {},
   "outputs": [
    {
     "name": "stdout",
     "output_type": "stream",
     "text": [
      "Union: {1, 2, 3, 4, 5, 6}\n"
     ]
    }
   ],
   "source": [
    "set1={1,2,3,4}\n",
    "set2={3,4,5,6}\n",
    "print(\"Union:\",set1|set2)"
   ]
  },
  {
   "cell_type": "markdown",
   "id": "e338a7e5-7098-439b-9944-717acd715071",
   "metadata": {},
   "source": [
    "#### *Intersection (A∩B)*"
   ]
  },
  {
   "cell_type": "code",
   "execution_count": 6,
   "id": "3387399a-c217-41af-bd34-69c67726f636",
   "metadata": {},
   "outputs": [
    {
     "name": "stdout",
     "output_type": "stream",
     "text": [
      "Intersection: {3, 4}\n"
     ]
    }
   ],
   "source": [
    "set1={1,2,3,4}\n",
    "set2={3,4,5,6}\n",
    "print(\"Intersection:\",set1&set2)"
   ]
  },
  {
   "cell_type": "markdown",
   "id": "e197e816-8559-4902-82a6-0e1b57e2139c",
   "metadata": {},
   "source": [
    "#### *Difference (A-B)*"
   ]
  },
  {
   "cell_type": "code",
   "execution_count": 7,
   "id": "a8021ef7-9515-4c04-ac01-ae0d43ce477f",
   "metadata": {},
   "outputs": [
    {
     "name": "stdout",
     "output_type": "stream",
     "text": [
      "Difference: {1, 2}\n"
     ]
    }
   ],
   "source": [
    "set1={1,2,3,4}\n",
    "set2={3,4,5,6}\n",
    "print(\"Difference:\",set1-set2)"
   ]
  },
  {
   "cell_type": "markdown",
   "id": "a1f0d93e-b558-4b58-89cc-8637641c85d9",
   "metadata": {},
   "source": [
    "#### *Symmetric Difference (A△B)*"
   ]
  },
  {
   "cell_type": "code",
   "execution_count": 12,
   "id": "fce0db4c-de45-40e1-a706-0efc3095b7ec",
   "metadata": {
    "collapsed": true,
    "jupyter": {
     "outputs_hidden": true
    }
   },
   "outputs": [
    {
     "name": "stdout",
     "output_type": "stream",
     "text": [
      "Symmetric Difference: {1, 2}\n"
     ]
    }
   ],
   "source": [
    "set1={1,2,3,4}\n",
    "set2={3,4,5,6}\n",
    "print(\"Symmetric Difference:\",set1-set2)"
   ]
  },
  {
   "cell_type": "markdown",
   "id": "5d52aba7-e2f7-45d6-af88-c513fbe2454f",
   "metadata": {},
   "source": [
    "#### *Set Relations*"
   ]
  },
  {
   "cell_type": "code",
   "execution_count": 13,
   "id": "5397cef8-141b-4e2f-b763-502b5a84e0c1",
   "metadata": {},
   "outputs": [
    {
     "name": "stdout",
     "output_type": "stream",
     "text": [
      "Set1 is subset of Set2: True\n",
      "Set2 is subset of Set1: False\n",
      "Set2 is superset of Set1: True\n",
      "Set1 is disjoint with{6,7}: True\n"
     ]
    }
   ],
   "source": [
    "set1={1,2,3}\n",
    "set2={1,2,3,4,5}\n",
    "print(\"Set1 is subset of Set2:\",set1.issubset(set2))\n",
    "print(\"Set2 is subset of Set1:\",set2.issubset(set1))\n",
    "print(\"Set2 is superset of Set1:\",set2.issuperset(set1))\n",
    "print(\"Set1 is disjoint with{6,7}:\",set1.isdisjoint({6,7}))"
   ]
  },
  {
   "cell_type": "markdown",
   "id": "bf274030-3955-4c2b-aed4-9bb761f647e2",
   "metadata": {},
   "source": [
    "#### *Length*"
   ]
  },
  {
   "cell_type": "code",
   "execution_count": 14,
   "id": "90b8b5e5-1e54-4efe-a4dd-8a78437d04fe",
   "metadata": {},
   "outputs": [
    {
     "name": "stdout",
     "output_type": "stream",
     "text": [
      "Length: 5\n"
     ]
    }
   ],
   "source": [
    "set={1,2,3,4,5}\n",
    "print(\"Length:\",len(set))"
   ]
  },
  {
   "cell_type": "markdown",
   "id": "641cb3da-bcef-45f1-9e70-8e1c014a8073",
   "metadata": {},
   "source": [
    "# Operations on Dictionary"
   ]
  },
  {
   "cell_type": "markdown",
   "id": "33469fc7-6eff-45ca-a4d1-3175da51bbc8",
   "metadata": {},
   "source": [
    "#### *Create a Dictionary*"
   ]
  },
  {
   "cell_type": "code",
   "execution_count": 16,
   "id": "1539a576-c283-45de-a1b3-f0e1ab5a869d",
   "metadata": {},
   "outputs": [
    {
     "name": "stdout",
     "output_type": "stream",
     "text": [
      "Dictionary: {'Name': 'Bala', 'Age': 19, 'City': 'Thanjavur'}\n"
     ]
    }
   ],
   "source": [
    "dict={\"Name\":\"Bala\",\"Age\":19,\"City\":\"Thanjavur\"}\n",
    "print(\"Dictionary:\",dict)"
   ]
  },
  {
   "cell_type": "markdown",
   "id": "0f80e5de-6a78-46d9-8d76-9a87151438a9",
   "metadata": {},
   "source": [
    "#### *Accessing Element*"
   ]
  },
  {
   "cell_type": "code",
   "execution_count": 19,
   "id": "336545e2-0f8f-40e2-8103-56379d48885b",
   "metadata": {},
   "outputs": [
    {
     "name": "stdout",
     "output_type": "stream",
     "text": [
      "Name: Bala\n"
     ]
    }
   ],
   "source": [
    "dict={\"Name\":\"Bala\",\"Age\":19,\"City\":\"Thanjavur\"}\n",
    "print(\"Name:\",dict[\"Name\"])"
   ]
  },
  {
   "cell_type": "markdown",
   "id": "c7aacd60-ef6d-4701-adb5-a6b07b3d646d",
   "metadata": {},
   "source": [
    "#### *Updating*"
   ]
  },
  {
   "cell_type": "code",
   "execution_count": 20,
   "id": "a581de5e-a335-4b0a-bbc2-d9226677f361",
   "metadata": {},
   "outputs": [
    {
     "name": "stdout",
     "output_type": "stream",
     "text": [
      "After upating age: {'Name': 'Bala', 'Age': 20, 'City': 'Thanjavur'}\n"
     ]
    }
   ],
   "source": [
    "dict={\"Name\":\"Bala\",\"Age\":19,\"City\":\"Thanjavur\"}\n",
    "dict[\"Age\"]=20\n",
    "print(\"After upating age:\",dict)"
   ]
  },
  {
   "cell_type": "markdown",
   "id": "884974c6-5e6f-4093-88d4-a9bb409dd884",
   "metadata": {},
   "source": [
    "#### *Adding element*"
   ]
  },
  {
   "cell_type": "code",
   "execution_count": 21,
   "id": "c3507970-cd96-4d5e-bf29-21bc8b5ddc16",
   "metadata": {},
   "outputs": [
    {
     "name": "stdout",
     "output_type": "stream",
     "text": [
      "After adding: {'Name': 'Bala', 'Age': 19, 'City': 'Thanjavur', 'College': 'PMIST'}\n"
     ]
    }
   ],
   "source": [
    "dict={\"Name\":\"Bala\",\"Age\":19,\"City\":\"Thanjavur\"}\n",
    "dict[\"College\"]=\"PMIST\"\n",
    "print(\"After adding:\",dict)"
   ]
  },
  {
   "cell_type": "markdown",
   "id": "f4778e38-c6d4-419a-943b-0aa21554ab07",
   "metadata": {},
   "source": [
    "#### *Removing Elements*\n"
   ]
  },
  {
   "cell_type": "code",
   "execution_count": 22,
   "id": "f434e985-8dd0-40dc-90ec-0d477f1be442",
   "metadata": {},
   "outputs": [
    {
     "name": "stdout",
     "output_type": "stream",
     "text": [
      "After pop: {'Name': 'Bala', 'Age': 19}\n"
     ]
    }
   ],
   "source": [
    "dict={\"Name\":\"Bala\",\"Age\":19,\"City\":\"Thanjavur\"}\n",
    "dict.pop(\"City\")\n",
    "print(\"After pop:\",dict)"
   ]
  },
  {
   "cell_type": "markdown",
   "id": "faea1340-e8d1-42a3-adc6-e6a2af818e0f",
   "metadata": {},
   "source": [
    "#### *Loop Through Dictionary*"
   ]
  },
  {
   "cell_type": "code",
   "execution_count": 28,
   "id": "54120da4-79e6-4247-98b2-941473b3c270",
   "metadata": {},
   "outputs": [
    {
     "name": "stdout",
     "output_type": "stream",
     "text": [
      "Keys:\n",
      "Age\n",
      "City\n"
     ]
    }
   ],
   "source": [
    "dict={\"Age\":19,\"City\":\"Thanjavur\"}\n",
    "print(\"Keys:\")\n",
    "for i in dict.keys():\n",
    "    print(i)"
   ]
  },
  {
   "cell_type": "markdown",
   "id": "c3d76b09-f28d-402b-b281-6e6f5294f19e",
   "metadata": {},
   "source": [
    "#### *Dictionary Methods*"
   ]
  },
  {
   "cell_type": "code",
   "execution_count": 29,
   "id": "c7bb4241-3401-4994-8d29-9388618db4b3",
   "metadata": {},
   "outputs": [
    {
     "name": "stdout",
     "output_type": "stream",
     "text": [
      "Keys: dict_keys(['Name', 'Age', 'City'])\n",
      "Values: dict_values(['Bala', 19, 'Thanjavur'])\n",
      "Items: dict_items([('Name', 'Bala'), ('Age', 19), ('City', 'Thanjavur')])\n"
     ]
    }
   ],
   "source": [
    "dict={\"Name\":\"Bala\",\"Age\":19,\"City\":\"Thanjavur\"}\n",
    "print(\"Keys:\",dict.keys())\n",
    "print(\"Values:\",dict.values())\n",
    "print(\"Items:\",dict.items())"
   ]
  }
 ],
 "metadata": {
  "kernelspec": {
   "display_name": "Python 3 (ipykernel)",
   "language": "python",
   "name": "python3"
  },
  "language_info": {
   "codemirror_mode": {
    "name": "ipython",
    "version": 3
   },
   "file_extension": ".py",
   "mimetype": "text/x-python",
   "name": "python",
   "nbconvert_exporter": "python",
   "pygments_lexer": "ipython3",
   "version": "3.9.7"
  }
 },
 "nbformat": 4,
 "nbformat_minor": 5
}
